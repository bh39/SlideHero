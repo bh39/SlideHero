{
  "nbformat": 4,
  "nbformat_minor": 0,
  "metadata": {
    "colab": {
      "provenance": []
    },
    "kernelspec": {
      "name": "python3",
      "display_name": "Python 3"
    },
    "language_info": {
      "name": "python"
    }
  },
  "cells": [
    {
      "cell_type": "code",
      "source": [
        "!pip install python-pptx"
      ],
      "metadata": {
        "colab": {
          "base_uri": "https://localhost:8080/"
        },
        "id": "wuvvAbfn_qXK",
        "outputId": "c1263ac4-5156-455e-eba1-28f885938c19"
      },
      "execution_count": null,
      "outputs": [
        {
          "output_type": "stream",
          "name": "stdout",
          "text": [
            "Looking in indexes: https://pypi.org/simple, https://us-python.pkg.dev/colab-wheels/public/simple/\n",
            "Collecting python-pptx\n",
            "  Downloading python-pptx-0.6.21.tar.gz (10.1 MB)\n",
            "\u001b[2K     \u001b[90m━━━━━━━━━━━━━━━━━━━━━━━━━━━━━━━━━━━━━━━━\u001b[0m \u001b[32m10.1/10.1 MB\u001b[0m \u001b[31m55.3 MB/s\u001b[0m eta \u001b[36m0:00:00\u001b[0m\n",
            "\u001b[?25h  Preparing metadata (setup.py) ... \u001b[?25l\u001b[?25hdone\n",
            "Requirement already satisfied: lxml>=3.1.0 in /usr/local/lib/python3.10/dist-packages (from python-pptx) (4.9.2)\n",
            "Requirement already satisfied: Pillow>=3.3.2 in /usr/local/lib/python3.10/dist-packages (from python-pptx) (8.4.0)\n",
            "Collecting XlsxWriter>=0.5.7 (from python-pptx)\n",
            "  Downloading XlsxWriter-3.1.2-py3-none-any.whl (153 kB)\n",
            "\u001b[2K     \u001b[90m━━━━━━━━━━━━━━━━━━━━━━━━━━━━━━━━━━━━━━\u001b[0m \u001b[32m153.0/153.0 kB\u001b[0m \u001b[31m14.2 MB/s\u001b[0m eta \u001b[36m0:00:00\u001b[0m\n",
            "\u001b[?25hBuilding wheels for collected packages: python-pptx\n",
            "  Building wheel for python-pptx (setup.py) ... \u001b[?25l\u001b[?25hdone\n",
            "  Created wheel for python-pptx: filename=python_pptx-0.6.21-py3-none-any.whl size=470935 sha256=889d93e1e8d738260ed6e9c1f0cc3fed8fda4080ba6be7008966f4d5360f4ab3\n",
            "  Stored in directory: /root/.cache/pip/wheels/ea/dd/74/01b3ec7256a0800b99384e9a0f7620e358afc3a51a59bf9b49\n",
            "Successfully built python-pptx\n",
            "Installing collected packages: XlsxWriter, python-pptx\n",
            "Successfully installed XlsxWriter-3.1.2 python-pptx-0.6.21\n"
          ]
        }
      ]
    },
    {
      "cell_type": "code",
      "source": [
        "from pptx import Presentation\n",
        "import pandas as pd\n",
        "import re\n",
        "import os"
      ],
      "metadata": {
        "id": "uL2aYNFV_6ny"
      },
      "execution_count": null,
      "outputs": []
    },
    {
      "cell_type": "code",
      "source": [
        "!rm -rf 321slides\n",
        "!rm -rf __MACOSX\n",
        "!unzip 321slides.zip -d /content\n",
        "!ls 321slides"
      ],
      "metadata": {
        "colab": {
          "base_uri": "https://localhost:8080/"
        },
        "id": "QVImhLn6HHxW",
        "outputId": "c8f38aea-5008-48bb-c520-8d3d451cf288"
      },
      "execution_count": null,
      "outputs": [
        {
          "output_type": "stream",
          "name": "stdout",
          "text": [
            "Archive:  321slides.zip\n",
            "   creating: /content/321slides/\n",
            "  inflating: /content/__MACOSX/._321slides  \n",
            "  inflating: /content/321slides/13-concurrency.pptx  \n",
            "  inflating: /content/__MACOSX/321slides/._13-concurrency.pptx  \n",
            "  inflating: /content/321slides/11-unixio.pptx  \n",
            "  inflating: /content/__MACOSX/321slides/._11-unixio.pptx  \n",
            "  inflating: /content/321slides/09-memory.pptx  \n",
            "  inflating: /content/__MACOSX/321slides/._09-memory.pptx  \n",
            "  inflating: /content/321slides/07-linking.pptx  \n",
            "  inflating: /content/__MACOSX/321slides/._07-linking.pptx  \n",
            "  inflating: /content/321slides/10-vm.pptx  \n",
            "  inflating: /content/__MACOSX/321slides/._10-vm.pptx  \n",
            "  inflating: /content/321slides/06-assembly.pptx  \n",
            "  inflating: /content/__MACOSX/321slides/._06-assembly.pptx  \n",
            "  inflating: /content/321slides/12-networking.pptx  \n",
            "  inflating: /content/__MACOSX/321slides/._12-networking.pptx  \n",
            "  inflating: /content/321slides/02-simple-data.pptx  \n",
            "  inflating: /content/__MACOSX/321slides/._02-simple-data.pptx  \n",
            "  inflating: /content/321slides/04-struct-union.pptx  \n",
            "  inflating: /content/__MACOSX/321slides/._04-struct-union.pptx  \n",
            "  inflating: /content/321slides/03-arrays-pointers.pptx  \n",
            "  inflating: /content/__MACOSX/321slides/._03-arrays-pointers.pptx  \n",
            "  inflating: /content/321slides/08-exceptions.pptx  \n",
            "  inflating: /content/__MACOSX/321slides/._08-exceptions.pptx  \n",
            "  inflating: /content/321slides/05-allocation.pptx  \n",
            "  inflating: /content/__MACOSX/321slides/._05-allocation.pptx  \n",
            "  inflating: /content/321slides/01-overview.pptx  \n",
            "  inflating: /content/__MACOSX/321slides/._01-overview.pptx  \n",
            "01-overview.pptx\t 06-assembly.pptx    11-unixio.pptx\n",
            "02-simple-data.pptx\t 07-linking.pptx     12-networking.pptx\n",
            "03-arrays-pointers.pptx  08-exceptions.pptx  13-concurrency.pptx\n",
            "04-struct-union.pptx\t 09-memory.pptx\n",
            "05-allocation.pptx\t 10-vm.pptx\n"
          ]
        }
      ]
    },
    {
      "cell_type": "code",
      "source": [
        "def process_pptx_files(filepath_list):\n",
        "\n",
        "    file_dict = {}\n",
        "\n",
        "    for file in filepath_list:\n",
        "        f = open(f'{file}', \"rb\")\n",
        "        pres = Presentation(f)\n",
        "\n",
        "        for i in range(len(pres.slides)):\n",
        "            text_runs = []\n",
        "            for shape in pres.slides[i].shapes:\n",
        "                if shape.has_text_frame:\n",
        "                    for paragraph in shape.text_frame.paragraphs:\n",
        "                        for run in paragraph.runs:\n",
        "                            text_runs.append(run.text)\n",
        "\n",
        "            file_dict[(file + \"_\" + str(i))] = \" \".join(text_runs)\n",
        "\n",
        "    return file_dict"
      ],
      "metadata": {
        "id": "30SkmNHK_o3M"
      },
      "execution_count": null,
      "outputs": []
    },
    {
      "cell_type": "code",
      "source": [
        "pptx_paths = os.listdir(\"321slides\")\n",
        "pptx_paths = [\"321slides/\" + s for s in pptx_paths]\n",
        "print(pptx_paths)\n",
        "\n",
        "pptx_dict = {}\n",
        "pptx_dict.update(process_pptx_files(pptx_paths))"
      ],
      "metadata": {
        "colab": {
          "base_uri": "https://localhost:8080/"
        },
        "id": "Tyd7IwqnBpGp",
        "outputId": "9ebbddae-5b18-45a3-d3ce-383359855a58"
      },
      "execution_count": null,
      "outputs": [
        {
          "output_type": "stream",
          "name": "stdout",
          "text": [
            "['321slides/01-overview.pptx', '321slides/06-assembly.pptx', '321slides/07-linking.pptx', '321slides/11-unixio.pptx', '321slides/12-networking.pptx', '321slides/05-allocation.pptx', '321slides/03-arrays-pointers.pptx', '321slides/08-exceptions.pptx', '321slides/13-concurrency.pptx', '321slides/02-simple-data.pptx', '321slides/10-vm.pptx', '321slides/04-struct-union.pptx', '321slides/09-memory.pptx']\n"
          ]
        }
      ]
    },
    {
      "cell_type": "code",
      "source": [
        "df_pptx = pd.DataFrame([pptx_dict]).T.reset_index()\n",
        "df_pptx.columns = [\"file_name\", \"text\"]\n",
        "\n",
        "df_pptx_clean = df_pptx[df_pptx[\"text\"].str.len() > 0].reset_index(drop=True)\n",
        "df_pptx_clean[\"text_clean\"] = df_pptx_clean[\"text\"].apply(lambda x : re.sub(r'[^a-zA-Z0-9_.\\s]+', '', str(x)))\n",
        "df_pptx_clean.tail()"
      ],
      "metadata": {
        "colab": {
          "base_uri": "https://localhost:8080/",
          "height": 250
        },
        "id": "1aZVi-tVCVA5",
        "outputId": "0fc30908-60cb-485f-d806-46f04072d1a4"
      },
      "execution_count": null,
      "outputs": [
        {
          "output_type": "execute_result",
          "data": {
            "text/plain": [
              "                        file_name  \\\n",
              "727  321slides/09-memory.pptx_100   \n",
              "728  321slides/09-memory.pptx_101   \n",
              "729  321slides/09-memory.pptx_102   \n",
              "730  321slides/09-memory.pptx_103   \n",
              "731  321slides/09-memory.pptx_104   \n",
              "\n",
              "                                                  text  \\\n",
              "727  Cox Dynamic Memory Allocation Compaction Movin...   \n",
              "728  Cox Dynamic Memory Allocation GC Variations Ma...   \n",
              "729  Cox Dynamic Memory Allocation Conservative GC ...   \n",
              "730  Cox Dynamic Memory Allocation GC vs.  malloc /...   \n",
              "731  Cox Dynamic Memory Allocation Next Time Virtua...   \n",
              "\n",
              "                                            text_clean  \n",
              "727  Cox Dynamic Memory Allocation Compaction Movin...  \n",
              "728  Cox Dynamic Memory Allocation GC Variations Ma...  \n",
              "729  Cox Dynamic Memory Allocation Conservative GC ...  \n",
              "730  Cox Dynamic Memory Allocation GC vs.  malloc  ...  \n",
              "731  Cox Dynamic Memory Allocation Next Time Virtua...  "
            ],
            "text/html": [
              "\n",
              "  <div id=\"df-9ef770f5-5cfd-48bb-affd-740ca9ece86d\">\n",
              "    <div class=\"colab-df-container\">\n",
              "      <div>\n",
              "<style scoped>\n",
              "    .dataframe tbody tr th:only-of-type {\n",
              "        vertical-align: middle;\n",
              "    }\n",
              "\n",
              "    .dataframe tbody tr th {\n",
              "        vertical-align: top;\n",
              "    }\n",
              "\n",
              "    .dataframe thead th {\n",
              "        text-align: right;\n",
              "    }\n",
              "</style>\n",
              "<table border=\"1\" class=\"dataframe\">\n",
              "  <thead>\n",
              "    <tr style=\"text-align: right;\">\n",
              "      <th></th>\n",
              "      <th>file_name</th>\n",
              "      <th>text</th>\n",
              "      <th>text_clean</th>\n",
              "    </tr>\n",
              "  </thead>\n",
              "  <tbody>\n",
              "    <tr>\n",
              "      <th>727</th>\n",
              "      <td>321slides/09-memory.pptx_100</td>\n",
              "      <td>Cox Dynamic Memory Allocation Compaction Movin...</td>\n",
              "      <td>Cox Dynamic Memory Allocation Compaction Movin...</td>\n",
              "    </tr>\n",
              "    <tr>\n",
              "      <th>728</th>\n",
              "      <td>321slides/09-memory.pptx_101</td>\n",
              "      <td>Cox Dynamic Memory Allocation GC Variations Ma...</td>\n",
              "      <td>Cox Dynamic Memory Allocation GC Variations Ma...</td>\n",
              "    </tr>\n",
              "    <tr>\n",
              "      <th>729</th>\n",
              "      <td>321slides/09-memory.pptx_102</td>\n",
              "      <td>Cox Dynamic Memory Allocation Conservative GC ...</td>\n",
              "      <td>Cox Dynamic Memory Allocation Conservative GC ...</td>\n",
              "    </tr>\n",
              "    <tr>\n",
              "      <th>730</th>\n",
              "      <td>321slides/09-memory.pptx_103</td>\n",
              "      <td>Cox Dynamic Memory Allocation GC vs.  malloc /...</td>\n",
              "      <td>Cox Dynamic Memory Allocation GC vs.  malloc  ...</td>\n",
              "    </tr>\n",
              "    <tr>\n",
              "      <th>731</th>\n",
              "      <td>321slides/09-memory.pptx_104</td>\n",
              "      <td>Cox Dynamic Memory Allocation Next Time Virtua...</td>\n",
              "      <td>Cox Dynamic Memory Allocation Next Time Virtua...</td>\n",
              "    </tr>\n",
              "  </tbody>\n",
              "</table>\n",
              "</div>\n",
              "      <button class=\"colab-df-convert\" onclick=\"convertToInteractive('df-9ef770f5-5cfd-48bb-affd-740ca9ece86d')\"\n",
              "              title=\"Convert this dataframe to an interactive table.\"\n",
              "              style=\"display:none;\">\n",
              "        \n",
              "  <svg xmlns=\"http://www.w3.org/2000/svg\" height=\"24px\"viewBox=\"0 0 24 24\"\n",
              "       width=\"24px\">\n",
              "    <path d=\"M0 0h24v24H0V0z\" fill=\"none\"/>\n",
              "    <path d=\"M18.56 5.44l.94 2.06.94-2.06 2.06-.94-2.06-.94-.94-2.06-.94 2.06-2.06.94zm-11 1L8.5 8.5l.94-2.06 2.06-.94-2.06-.94L8.5 2.5l-.94 2.06-2.06.94zm10 10l.94 2.06.94-2.06 2.06-.94-2.06-.94-.94-2.06-.94 2.06-2.06.94z\"/><path d=\"M17.41 7.96l-1.37-1.37c-.4-.4-.92-.59-1.43-.59-.52 0-1.04.2-1.43.59L10.3 9.45l-7.72 7.72c-.78.78-.78 2.05 0 2.83L4 21.41c.39.39.9.59 1.41.59.51 0 1.02-.2 1.41-.59l7.78-7.78 2.81-2.81c.8-.78.8-2.07 0-2.86zM5.41 20L4 18.59l7.72-7.72 1.47 1.35L5.41 20z\"/>\n",
              "  </svg>\n",
              "      </button>\n",
              "      \n",
              "  <style>\n",
              "    .colab-df-container {\n",
              "      display:flex;\n",
              "      flex-wrap:wrap;\n",
              "      gap: 12px;\n",
              "    }\n",
              "\n",
              "    .colab-df-convert {\n",
              "      background-color: #E8F0FE;\n",
              "      border: none;\n",
              "      border-radius: 50%;\n",
              "      cursor: pointer;\n",
              "      display: none;\n",
              "      fill: #1967D2;\n",
              "      height: 32px;\n",
              "      padding: 0 0 0 0;\n",
              "      width: 32px;\n",
              "    }\n",
              "\n",
              "    .colab-df-convert:hover {\n",
              "      background-color: #E2EBFA;\n",
              "      box-shadow: 0px 1px 2px rgba(60, 64, 67, 0.3), 0px 1px 3px 1px rgba(60, 64, 67, 0.15);\n",
              "      fill: #174EA6;\n",
              "    }\n",
              "\n",
              "    [theme=dark] .colab-df-convert {\n",
              "      background-color: #3B4455;\n",
              "      fill: #D2E3FC;\n",
              "    }\n",
              "\n",
              "    [theme=dark] .colab-df-convert:hover {\n",
              "      background-color: #434B5C;\n",
              "      box-shadow: 0px 1px 3px 1px rgba(0, 0, 0, 0.15);\n",
              "      filter: drop-shadow(0px 1px 2px rgba(0, 0, 0, 0.3));\n",
              "      fill: #FFFFFF;\n",
              "    }\n",
              "  </style>\n",
              "\n",
              "      <script>\n",
              "        const buttonEl =\n",
              "          document.querySelector('#df-9ef770f5-5cfd-48bb-affd-740ca9ece86d button.colab-df-convert');\n",
              "        buttonEl.style.display =\n",
              "          google.colab.kernel.accessAllowed ? 'block' : 'none';\n",
              "\n",
              "        async function convertToInteractive(key) {\n",
              "          const element = document.querySelector('#df-9ef770f5-5cfd-48bb-affd-740ca9ece86d');\n",
              "          const dataTable =\n",
              "            await google.colab.kernel.invokeFunction('convertToInteractive',\n",
              "                                                     [key], {});\n",
              "          if (!dataTable) return;\n",
              "\n",
              "          const docLinkHtml = 'Like what you see? Visit the ' +\n",
              "            '<a target=\"_blank\" href=https://colab.research.google.com/notebooks/data_table.ipynb>data table notebook</a>'\n",
              "            + ' to learn more about interactive tables.';\n",
              "          element.innerHTML = '';\n",
              "          dataTable['output_type'] = 'display_data';\n",
              "          await google.colab.output.renderOutput(dataTable, element);\n",
              "          const docLink = document.createElement('div');\n",
              "          docLink.innerHTML = docLinkHtml;\n",
              "          element.appendChild(docLink);\n",
              "        }\n",
              "      </script>\n",
              "    </div>\n",
              "  </div>\n",
              "  "
            ]
          },
          "metadata": {},
          "execution_count": 73
        }
      ]
    },
    {
      "cell_type": "code",
      "source": [
        "# Add the new column with values from 0 to n-1\n",
        "df_pptx_clean['DOC_ID'] = range(len(df_pptx_clean))\n",
        "\n",
        "# Save the updated DataFrame back to the CSV file\n",
        "df_pptx_clean.to_csv('/content/pptx_data.csv', index=False)"
      ],
      "metadata": {
        "id": "lIkebhcAIwuz"
      },
      "execution_count": null,
      "outputs": []
    }
  ]
}